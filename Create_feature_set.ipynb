{
 "cells": [
  {
   "cell_type": "code",
   "execution_count": 1,
   "metadata": {},
   "outputs": [],
   "source": [
    "import numpy as np\n",
    "import pandas as pd\n",
    "import matplotlib.pyplot as plt\n",
    "\n",
    "import nltk, collections, re, string\n",
    "from nltk.corpus import stopwords\n",
    "from nltk.stem import SnowballStemmer"
   ]
  },
  {
   "cell_type": "code",
   "execution_count": 2,
   "metadata": {},
   "outputs": [],
   "source": [
    "data = pd.read_csv('Eluvio_DS_Challenge.csv')"
   ]
  },
  {
   "cell_type": "markdown",
   "metadata": {},
   "source": [
    "## Feature Set "
   ]
  },
  {
   "cell_type": "markdown",
   "metadata": {},
   "source": [
    "features to include:\n",
    "- `time_created`\n",
    "- `over_18`\n",
    "\n",
    "engineered features:\n",
    "- `day_of_the_week`\n",
    "- `author` mean upvotes\n",
    "- `autor` standard deviation upvotes\n",
    "- `title_length`\n",
    "- 50 dimensional `title` GloVe embeddings\n",
    "\n",
    "feature to predict:\n",
    "- `up_votes`"
   ]
  },
  {
   "cell_type": "markdown",
   "metadata": {},
   "source": [
    "## 57 dimensional feature array"
   ]
  },
  {
   "cell_type": "markdown",
   "metadata": {},
   "source": [
    "can impute missing values or remove entries with any missing values."
   ]
  },
  {
   "cell_type": "markdown",
   "metadata": {},
   "source": [
    "### make `over_18` 1 or 0 "
   ]
  },
  {
   "cell_type": "code",
   "execution_count": 56,
   "metadata": {},
   "outputs": [],
   "source": [
    "data['nsfw'] = data['over_18'].values*1"
   ]
  },
  {
   "cell_type": "markdown",
   "metadata": {},
   "source": [
    "### add day of the week"
   ]
  },
  {
   "cell_type": "code",
   "execution_count": 7,
   "metadata": {},
   "outputs": [],
   "source": [
    "from datetime import datetime\n",
    "creation_dates = np.array([datetime.utcfromtimestamp(time_created) for time_created in data['time_created']])\n",
    "day_of_the_week = np.array([date.weekday() for date in creation_dates])"
   ]
  },
  {
   "cell_type": "code",
   "execution_count": 9,
   "metadata": {},
   "outputs": [],
   "source": [
    "data['day_of_the_week'] = day_of_the_week"
   ]
  },
  {
   "cell_type": "markdown",
   "metadata": {},
   "source": [
    "### add author data"
   ]
  },
  {
   "cell_type": "code",
   "execution_count": 22,
   "metadata": {},
   "outputs": [],
   "source": [
    "author_upvotes_counts = pd.concat([data.groupby('author', sort=False).mean()['up_votes'], data.groupby('author', sort=False).std()['up_votes'],data['author'].value_counts()], axis=1, keys=['mean_upvotes', 'std_upvotes','post_count'])\n",
    "author_mean = np.array([author_upvotes_counts.loc[author]['mean_upvotes'] for author in data['author']])\n",
    "author_std = np.array([author_upvotes_counts.loc[author]['std_upvotes'] for author in data['author']])"
   ]
  },
  {
   "cell_type": "code",
   "execution_count": 26,
   "metadata": {},
   "outputs": [],
   "source": [
    "data['author_mean'] = author_mean\n",
    "data['author_std'] = author_std"
   ]
  },
  {
   "cell_type": "markdown",
   "metadata": {},
   "source": [
    "### add title data"
   ]
  },
  {
   "cell_type": "code",
   "execution_count": 28,
   "metadata": {},
   "outputs": [],
   "source": [
    "title_length = np.array([len(title.split()) for title in data['title']])\n",
    "data['title_length'] = title_length"
   ]
  },
  {
   "cell_type": "markdown",
   "metadata": {},
   "source": [
    "#### GloVe embeddings "
   ]
  },
  {
   "cell_type": "code",
   "execution_count": 31,
   "metadata": {},
   "outputs": [],
   "source": [
    "punctuation_numbers_to_exclude = r\"[\\d+{}’‘“”…£]\".format(string.punctuation)\n",
    "stop_words = [re.sub(punctuation_numbers_to_exclude, \"\", stop) for stop in stopwords.words('english')]\n",
    "ss = SnowballStemmer('english')\n",
    "\n",
    "def clean_text(text, remove_punctuation=True, remove_stopwords=True, stem=True):\n",
    "    \n",
    "    text=text.lower()\n",
    "    \n",
    "    if remove_punctuation:\n",
    "        #remove punctuation and numbers\n",
    "        text = re.sub(punctuation_numbers_to_exclude, \"\", text)\n",
    "    \n",
    "    if remove_stopwords:\n",
    "        #remove stopwords\n",
    "        text = [word for word in text.split() if word not in stop_words]\n",
    "   \n",
    "    if stem:\n",
    "        #stem\n",
    "        text = [ss.stem(word) for word in text]\n",
    "    \n",
    "    return ' '.join(text)\n"
   ]
  },
  {
   "cell_type": "code",
   "execution_count": 32,
   "metadata": {},
   "outputs": [],
   "source": [
    "cleaned_titles_no_stemming = [clean_text(title, stem=False) for title in data['title'].values]"
   ]
  },
  {
   "cell_type": "code",
   "execution_count": 33,
   "metadata": {},
   "outputs": [],
   "source": [
    "#load pretrained model\n",
    "embeddings_dict = {}\n",
    "dimensions = 50\n",
    "with open(\"glove.6b/glove.6B.50d.txt\", 'r') as f:\n",
    "    for line in f:\n",
    "        values = line.split()\n",
    "        word = values[0]\n",
    "        vector = np.asarray(values[1:], \"float32\")\n",
    "        embeddings_dict[word] = vector"
   ]
  },
  {
   "cell_type": "code",
   "execution_count": 34,
   "metadata": {},
   "outputs": [],
   "source": [
    "titles_vectors = []\n",
    "\n",
    "#using nonstemming because word variants with the same stem often appear with separate embeddings.\n",
    "for title in cleaned_titles_no_stemming:\n",
    "    title_words_vectors = []\n",
    "    for word in title.lower().split():\n",
    "        try:\n",
    "            title_words_vectors.append(embeddings_dict[word])\n",
    "        except KeyError: #if word not in model, then pass\n",
    "            pass\n",
    "    \n",
    "    #if there are no words from title in GloVe model, return array of nans, else return mean of embedding values for all words in title\n",
    "    if len(title_words_vectors) == 0:\n",
    "        titles_vectors.append(np.full(dimensions, np.nan))\n",
    "    else:\n",
    "        titles_vectors.append(np.mean(title_words_vectors, axis=0))\n",
    "\n",
    "titles_vectors = np.array(titles_vectors)\n"
   ]
  },
  {
   "cell_type": "code",
   "execution_count": 65,
   "metadata": {},
   "outputs": [],
   "source": [
    "glove_columns = ['glove_{0}'.format(j) for j in range(titles_vectors.shape[1])]\n",
    "\n",
    "for j in range(titles_vectors.shape[1]):\n",
    "    data[glove_columns[j]] = titles_vectors[:,j]"
   ]
  },
  {
   "cell_type": "markdown",
   "metadata": {},
   "source": [
    "## Take care of missing values "
   ]
  },
  {
   "cell_type": "markdown",
   "metadata": {},
   "source": [
    "### for simplicity, rather than impute missing values, we will simply eliminate those entries "
   ]
  },
  {
   "cell_type": "code",
   "execution_count": 95,
   "metadata": {},
   "outputs": [],
   "source": [
    "missing_values_mask = np.all([np.isfinite(data['author_std']).values, np.isfinite(data['glove_0']).values], axis=0)"
   ]
  },
  {
   "cell_type": "code",
   "execution_count": 100,
   "metadata": {},
   "outputs": [
    {
     "name": "stdout",
     "output_type": "stream",
     "text": [
      "We lose 54700 entries (10.0%)\n"
     ]
    }
   ],
   "source": [
    "missing_n = len(data) - sum(missing_values_mask)\n",
    "\n",
    "print('We lose {0} entries ({1}%)'.format(missing_n, 100*round(missing_n/len(data),1)))"
   ]
  },
  {
   "cell_type": "markdown",
   "metadata": {},
   "source": [
    "It's an important loss of data. Mostly from Authors that only have a single post and therefore no standard deviation. But we will continue with that loss for now."
   ]
  },
  {
   "cell_type": "markdown",
   "metadata": {},
   "source": [
    "## select columns and convert to numpy array "
   ]
  },
  {
   "cell_type": "code",
   "execution_count": 102,
   "metadata": {},
   "outputs": [
    {
     "data": {
      "text/html": [
       "<div>\n",
       "<style scoped>\n",
       "    .dataframe tbody tr th:only-of-type {\n",
       "        vertical-align: middle;\n",
       "    }\n",
       "\n",
       "    .dataframe tbody tr th {\n",
       "        vertical-align: top;\n",
       "    }\n",
       "\n",
       "    .dataframe thead th {\n",
       "        text-align: right;\n",
       "    }\n",
       "</style>\n",
       "<table border=\"1\" class=\"dataframe\">\n",
       "  <thead>\n",
       "    <tr style=\"text-align: right;\">\n",
       "      <th></th>\n",
       "      <th>up_votes</th>\n",
       "      <th>time_created</th>\n",
       "      <th>day_of_the_week</th>\n",
       "      <th>nsfw</th>\n",
       "      <th>author_mean</th>\n",
       "      <th>author_std</th>\n",
       "      <th>title_length</th>\n",
       "      <th>glove_0</th>\n",
       "      <th>glove_1</th>\n",
       "      <th>glove_2</th>\n",
       "      <th>...</th>\n",
       "      <th>glove_40</th>\n",
       "      <th>glove_41</th>\n",
       "      <th>glove_42</th>\n",
       "      <th>glove_43</th>\n",
       "      <th>glove_44</th>\n",
       "      <th>glove_45</th>\n",
       "      <th>glove_46</th>\n",
       "      <th>glove_47</th>\n",
       "      <th>glove_48</th>\n",
       "      <th>glove_49</th>\n",
       "    </tr>\n",
       "  </thead>\n",
       "  <tbody>\n",
       "    <tr>\n",
       "      <th>0</th>\n",
       "      <td>3</td>\n",
       "      <td>1201232046</td>\n",
       "      <td>4</td>\n",
       "      <td>0</td>\n",
       "      <td>23.020000</td>\n",
       "      <td>89.754197</td>\n",
       "      <td>5</td>\n",
       "      <td>0.395450</td>\n",
       "      <td>-0.487710</td>\n",
       "      <td>0.577686</td>\n",
       "      <td>...</td>\n",
       "      <td>-0.686205</td>\n",
       "      <td>0.539595</td>\n",
       "      <td>0.111257</td>\n",
       "      <td>-0.336770</td>\n",
       "      <td>0.807028</td>\n",
       "      <td>0.184083</td>\n",
       "      <td>-0.514305</td>\n",
       "      <td>0.448858</td>\n",
       "      <td>0.001137</td>\n",
       "      <td>-1.198285</td>\n",
       "    </tr>\n",
       "    <tr>\n",
       "      <th>1</th>\n",
       "      <td>2</td>\n",
       "      <td>1201232075</td>\n",
       "      <td>4</td>\n",
       "      <td>0</td>\n",
       "      <td>23.020000</td>\n",
       "      <td>89.754197</td>\n",
       "      <td>4</td>\n",
       "      <td>0.763765</td>\n",
       "      <td>-0.113493</td>\n",
       "      <td>-0.059670</td>\n",
       "      <td>...</td>\n",
       "      <td>-0.244318</td>\n",
       "      <td>-0.520625</td>\n",
       "      <td>0.478451</td>\n",
       "      <td>-0.645957</td>\n",
       "      <td>0.018015</td>\n",
       "      <td>0.170771</td>\n",
       "      <td>0.314402</td>\n",
       "      <td>0.883963</td>\n",
       "      <td>-0.354881</td>\n",
       "      <td>-0.007585</td>\n",
       "    </tr>\n",
       "    <tr>\n",
       "      <th>2</th>\n",
       "      <td>3</td>\n",
       "      <td>1201232523</td>\n",
       "      <td>4</td>\n",
       "      <td>0</td>\n",
       "      <td>23.020000</td>\n",
       "      <td>89.754197</td>\n",
       "      <td>6</td>\n",
       "      <td>0.281622</td>\n",
       "      <td>-0.062788</td>\n",
       "      <td>0.422594</td>\n",
       "      <td>...</td>\n",
       "      <td>0.083637</td>\n",
       "      <td>0.331160</td>\n",
       "      <td>0.742914</td>\n",
       "      <td>-0.773070</td>\n",
       "      <td>0.297838</td>\n",
       "      <td>0.002664</td>\n",
       "      <td>-0.239062</td>\n",
       "      <td>0.610976</td>\n",
       "      <td>-0.358832</td>\n",
       "      <td>-0.767040</td>\n",
       "    </tr>\n",
       "    <tr>\n",
       "      <th>3</th>\n",
       "      <td>1</td>\n",
       "      <td>1201233290</td>\n",
       "      <td>4</td>\n",
       "      <td>0</td>\n",
       "      <td>0.500000</td>\n",
       "      <td>0.707107</td>\n",
       "      <td>7</td>\n",
       "      <td>0.308578</td>\n",
       "      <td>-0.056740</td>\n",
       "      <td>0.350345</td>\n",
       "      <td>...</td>\n",
       "      <td>-0.777184</td>\n",
       "      <td>-0.411264</td>\n",
       "      <td>0.185698</td>\n",
       "      <td>-0.054106</td>\n",
       "      <td>0.373954</td>\n",
       "      <td>0.360538</td>\n",
       "      <td>0.035844</td>\n",
       "      <td>0.658474</td>\n",
       "      <td>0.394973</td>\n",
       "      <td>0.554069</td>\n",
       "    </tr>\n",
       "    <tr>\n",
       "      <th>5</th>\n",
       "      <td>15</td>\n",
       "      <td>1201287889</td>\n",
       "      <td>4</td>\n",
       "      <td>0</td>\n",
       "      <td>9.000000</td>\n",
       "      <td>8.485281</td>\n",
       "      <td>16</td>\n",
       "      <td>0.185331</td>\n",
       "      <td>0.032454</td>\n",
       "      <td>0.275928</td>\n",
       "      <td>...</td>\n",
       "      <td>0.088249</td>\n",
       "      <td>0.084278</td>\n",
       "      <td>0.154433</td>\n",
       "      <td>-0.096411</td>\n",
       "      <td>0.427682</td>\n",
       "      <td>-0.375497</td>\n",
       "      <td>-0.155194</td>\n",
       "      <td>-0.597045</td>\n",
       "      <td>0.388277</td>\n",
       "      <td>-0.164167</td>\n",
       "    </tr>\n",
       "    <tr>\n",
       "      <th>...</th>\n",
       "      <td>...</td>\n",
       "      <td>...</td>\n",
       "      <td>...</td>\n",
       "      <td>...</td>\n",
       "      <td>...</td>\n",
       "      <td>...</td>\n",
       "      <td>...</td>\n",
       "      <td>...</td>\n",
       "      <td>...</td>\n",
       "      <td>...</td>\n",
       "      <td>...</td>\n",
       "      <td>...</td>\n",
       "      <td>...</td>\n",
       "      <td>...</td>\n",
       "      <td>...</td>\n",
       "      <td>...</td>\n",
       "      <td>...</td>\n",
       "      <td>...</td>\n",
       "      <td>...</td>\n",
       "      <td>...</td>\n",
       "      <td>...</td>\n",
       "    </tr>\n",
       "    <tr>\n",
       "      <th>509230</th>\n",
       "      <td>2</td>\n",
       "      <td>1479816582</td>\n",
       "      <td>1</td>\n",
       "      <td>0</td>\n",
       "      <td>5.111111</td>\n",
       "      <td>7.406829</td>\n",
       "      <td>9</td>\n",
       "      <td>-0.316480</td>\n",
       "      <td>-0.071289</td>\n",
       "      <td>-0.248686</td>\n",
       "      <td>...</td>\n",
       "      <td>-0.032479</td>\n",
       "      <td>0.260980</td>\n",
       "      <td>0.324924</td>\n",
       "      <td>-0.194732</td>\n",
       "      <td>0.248947</td>\n",
       "      <td>0.298520</td>\n",
       "      <td>-0.630963</td>\n",
       "      <td>0.677534</td>\n",
       "      <td>0.236023</td>\n",
       "      <td>0.067901</td>\n",
       "    </tr>\n",
       "    <tr>\n",
       "      <th>509231</th>\n",
       "      <td>5</td>\n",
       "      <td>1479816764</td>\n",
       "      <td>1</td>\n",
       "      <td>0</td>\n",
       "      <td>21.000000</td>\n",
       "      <td>22.461077</td>\n",
       "      <td>13</td>\n",
       "      <td>-0.233507</td>\n",
       "      <td>0.100422</td>\n",
       "      <td>-0.006792</td>\n",
       "      <td>...</td>\n",
       "      <td>0.069630</td>\n",
       "      <td>0.321455</td>\n",
       "      <td>-0.187375</td>\n",
       "      <td>0.177768</td>\n",
       "      <td>0.234017</td>\n",
       "      <td>-0.162837</td>\n",
       "      <td>-0.628947</td>\n",
       "      <td>-0.402305</td>\n",
       "      <td>-0.022119</td>\n",
       "      <td>-0.053674</td>\n",
       "    </tr>\n",
       "    <tr>\n",
       "      <th>509233</th>\n",
       "      <td>1</td>\n",
       "      <td>1479817056</td>\n",
       "      <td>1</td>\n",
       "      <td>0</td>\n",
       "      <td>5.333333</td>\n",
       "      <td>7.505553</td>\n",
       "      <td>5</td>\n",
       "      <td>-0.248053</td>\n",
       "      <td>0.981899</td>\n",
       "      <td>-0.253868</td>\n",
       "      <td>...</td>\n",
       "      <td>0.124997</td>\n",
       "      <td>0.200728</td>\n",
       "      <td>-0.087928</td>\n",
       "      <td>-0.083809</td>\n",
       "      <td>0.055016</td>\n",
       "      <td>-0.059511</td>\n",
       "      <td>-0.142616</td>\n",
       "      <td>0.557844</td>\n",
       "      <td>-0.404922</td>\n",
       "      <td>0.123416</td>\n",
       "    </tr>\n",
       "    <tr>\n",
       "      <th>509234</th>\n",
       "      <td>1</td>\n",
       "      <td>1479817157</td>\n",
       "      <td>1</td>\n",
       "      <td>0</td>\n",
       "      <td>8.250000</td>\n",
       "      <td>16.209263</td>\n",
       "      <td>8</td>\n",
       "      <td>0.060415</td>\n",
       "      <td>-0.141901</td>\n",
       "      <td>0.293550</td>\n",
       "      <td>...</td>\n",
       "      <td>0.284009</td>\n",
       "      <td>0.297247</td>\n",
       "      <td>-0.232101</td>\n",
       "      <td>-0.387104</td>\n",
       "      <td>0.508659</td>\n",
       "      <td>-0.164194</td>\n",
       "      <td>-0.322761</td>\n",
       "      <td>0.277495</td>\n",
       "      <td>0.265465</td>\n",
       "      <td>0.067527</td>\n",
       "    </tr>\n",
       "    <tr>\n",
       "      <th>509235</th>\n",
       "      <td>1</td>\n",
       "      <td>1479817346</td>\n",
       "      <td>1</td>\n",
       "      <td>0</td>\n",
       "      <td>171.265537</td>\n",
       "      <td>737.747056</td>\n",
       "      <td>10</td>\n",
       "      <td>0.083072</td>\n",
       "      <td>-0.260743</td>\n",
       "      <td>0.500345</td>\n",
       "      <td>...</td>\n",
       "      <td>-0.201944</td>\n",
       "      <td>0.322327</td>\n",
       "      <td>0.196177</td>\n",
       "      <td>-0.448940</td>\n",
       "      <td>0.662059</td>\n",
       "      <td>-0.516592</td>\n",
       "      <td>-0.374706</td>\n",
       "      <td>0.114341</td>\n",
       "      <td>0.048880</td>\n",
       "      <td>-0.658091</td>\n",
       "    </tr>\n",
       "  </tbody>\n",
       "</table>\n",
       "<p>454536 rows × 57 columns</p>\n",
       "</div>"
      ],
      "text/plain": [
       "        up_votes  time_created  day_of_the_week  nsfw  author_mean  \\\n",
       "0              3    1201232046                4     0    23.020000   \n",
       "1              2    1201232075                4     0    23.020000   \n",
       "2              3    1201232523                4     0    23.020000   \n",
       "3              1    1201233290                4     0     0.500000   \n",
       "5             15    1201287889                4     0     9.000000   \n",
       "...          ...           ...              ...   ...          ...   \n",
       "509230         2    1479816582                1     0     5.111111   \n",
       "509231         5    1479816764                1     0    21.000000   \n",
       "509233         1    1479817056                1     0     5.333333   \n",
       "509234         1    1479817157                1     0     8.250000   \n",
       "509235         1    1479817346                1     0   171.265537   \n",
       "\n",
       "        author_std  title_length   glove_0   glove_1   glove_2  ...  glove_40  \\\n",
       "0        89.754197             5  0.395450 -0.487710  0.577686  ... -0.686205   \n",
       "1        89.754197             4  0.763765 -0.113493 -0.059670  ... -0.244318   \n",
       "2        89.754197             6  0.281622 -0.062788  0.422594  ...  0.083637   \n",
       "3         0.707107             7  0.308578 -0.056740  0.350345  ... -0.777184   \n",
       "5         8.485281            16  0.185331  0.032454  0.275928  ...  0.088249   \n",
       "...            ...           ...       ...       ...       ...  ...       ...   \n",
       "509230    7.406829             9 -0.316480 -0.071289 -0.248686  ... -0.032479   \n",
       "509231   22.461077            13 -0.233507  0.100422 -0.006792  ...  0.069630   \n",
       "509233    7.505553             5 -0.248053  0.981899 -0.253868  ...  0.124997   \n",
       "509234   16.209263             8  0.060415 -0.141901  0.293550  ...  0.284009   \n",
       "509235  737.747056            10  0.083072 -0.260743  0.500345  ... -0.201944   \n",
       "\n",
       "        glove_41  glove_42  glove_43  glove_44  glove_45  glove_46  glove_47  \\\n",
       "0       0.539595  0.111257 -0.336770  0.807028  0.184083 -0.514305  0.448858   \n",
       "1      -0.520625  0.478451 -0.645957  0.018015  0.170771  0.314402  0.883963   \n",
       "2       0.331160  0.742914 -0.773070  0.297838  0.002664 -0.239062  0.610976   \n",
       "3      -0.411264  0.185698 -0.054106  0.373954  0.360538  0.035844  0.658474   \n",
       "5       0.084278  0.154433 -0.096411  0.427682 -0.375497 -0.155194 -0.597045   \n",
       "...          ...       ...       ...       ...       ...       ...       ...   \n",
       "509230  0.260980  0.324924 -0.194732  0.248947  0.298520 -0.630963  0.677534   \n",
       "509231  0.321455 -0.187375  0.177768  0.234017 -0.162837 -0.628947 -0.402305   \n",
       "509233  0.200728 -0.087928 -0.083809  0.055016 -0.059511 -0.142616  0.557844   \n",
       "509234  0.297247 -0.232101 -0.387104  0.508659 -0.164194 -0.322761  0.277495   \n",
       "509235  0.322327  0.196177 -0.448940  0.662059 -0.516592 -0.374706  0.114341   \n",
       "\n",
       "        glove_48  glove_49  \n",
       "0       0.001137 -1.198285  \n",
       "1      -0.354881 -0.007585  \n",
       "2      -0.358832 -0.767040  \n",
       "3       0.394973  0.554069  \n",
       "5       0.388277 -0.164167  \n",
       "...          ...       ...  \n",
       "509230  0.236023  0.067901  \n",
       "509231 -0.022119 -0.053674  \n",
       "509233 -0.404922  0.123416  \n",
       "509234  0.265465  0.067527  \n",
       "509235  0.048880 -0.658091  \n",
       "\n",
       "[454536 rows x 57 columns]"
      ]
     },
     "execution_count": 102,
     "metadata": {},
     "output_type": "execute_result"
    }
   ],
   "source": [
    "columns = ['up_votes','time_created','day_of_the_week', 'nsfw', 'author_mean', 'author_std', 'title_length']\n",
    "data[columns+glove_columns][missing_values_mask]"
   ]
  },
  {
   "cell_type": "code",
   "execution_count": 103,
   "metadata": {},
   "outputs": [],
   "source": [
    "feature_data = data[columns+glove_columns][missing_values_mask].to_numpy()"
   ]
  },
  {
   "cell_type": "code",
   "execution_count": 104,
   "metadata": {},
   "outputs": [],
   "source": [
    "np.save('feature_data.npy', feature_data)"
   ]
  },
  {
   "cell_type": "code",
   "execution_count": null,
   "metadata": {},
   "outputs": [],
   "source": []
  }
 ],
 "metadata": {
  "kernelspec": {
   "display_name": "Python [conda env:eluvio]",
   "language": "python",
   "name": "conda-env-eluvio-py"
  },
  "language_info": {
   "codemirror_mode": {
    "name": "ipython",
    "version": 3
   },
   "file_extension": ".py",
   "mimetype": "text/x-python",
   "name": "python",
   "nbconvert_exporter": "python",
   "pygments_lexer": "ipython3",
   "version": "3.9.2"
  }
 },
 "nbformat": 4,
 "nbformat_minor": 2
}
